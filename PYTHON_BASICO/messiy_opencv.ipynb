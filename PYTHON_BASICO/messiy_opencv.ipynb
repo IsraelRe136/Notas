{
 "cells": [
  {
   "cell_type": "code",
   "execution_count": 11,
   "metadata": {},
   "outputs": [
    {
     "name": "stdout",
     "output_type": "stream",
     "text": [
      "hola mundo\n",
      "holapedro\n",
      "True\n"
     ]
    }
   ],
   "source": [
    "print(\"hola mundo\")\n",
    "False\n",
    "True\n",
    "40\n",
    "40.2\n",
    "nombre=\"pedro\"\n",
    "bienvenida=f\"hola{nombre}\"\n",
    "#del bienvenida #se borra\n",
    "print(bienvenida)\n",
    "\n",
    "print(\"ola\" in bienvenida)\n",
    "print(\"ola\" not in bienvenida)\n",
    "\n"
   ]
  },
  {
   "cell_type": "code",
   "execution_count": 18,
   "metadata": {},
   "outputs": [
    {
     "name": "stdout",
     "output_type": "stream",
     "text": [
      "['lucas dalto', 'soy isra', True, 1.85]\n",
      "lucas dalto\n",
      "pedro\n",
      "soy dalto\n"
     ]
    }
   ],
   "source": [
    "#datos compuestos \n",
    "lista=[\"lucas dalto\",\"soy isra\",True,1.85]\n",
    "print(lista)\n",
    "print(lista[0])\n",
    "tupla=(\"lucas dalto\",\"soy isra\",True,1.85) #la tupla no se puede modificar \n",
    "lista[0]=\"pedro\"\n",
    "print(lista[0])\n",
    "\n",
    "#creando un conjunto set\n",
    "conjunto={\"lucas dalto\",\"soy isra\",True,1.85} #los elelemnos tampioco se pue4den cambiar \n",
    "#no se puede acceder a cada elemento y no se puede repetir valores no los almacena \n",
    "\n",
    "diccionario ={\n",
    "    'nombre' : \"lucas dalto\",\n",
    "    'canal' : \"soy dalto\"\n",
    "} #accedemos por el nombre dato, no por el numero de elemnto \n",
    "\n",
    "print(diccionario[\"canal\"])\n",
    "\n",
    "\n"
   ]
  },
  {
   "cell_type": "code",
   "execution_count": 20,
   "metadata": {},
   "outputs": [
    {
     "name": "stdout",
     "output_type": "stream",
     "text": [
      "<class 'str'>\n"
     ]
    }
   ],
   "source": [
    "division=1412/45 #devuelvew siempre un float\n",
    "\n",
    "division_baja=6//2 #devuelve entero redondiasndo hacia abajp\n",
    "\n",
    "tipo_de_dato=type(\"hola profe\")\n",
    "print(tipo_de_dato)"
   ]
  },
  {
   "cell_type": "code",
   "execution_count": 23,
   "metadata": {},
   "outputs": [
    {
     "name": "stdout",
     "output_type": "stream",
     "text": [
      "False\n",
      "True\n"
     ]
    }
   ],
   "source": [
    "igual_que= 5 == 6\n",
    "print(igual_que)\n",
    "comparacion = 5+3<41\n",
    "print(comparacion)"
   ]
  },
  {
   "cell_type": "code",
   "execution_count": null,
   "metadata": {},
   "outputs": [],
   "source": [
    "#condion\n",
    "if 2==20:\n",
    "    print(\"iniciando sesiom\")\n",
    "else:\n",
    "    print(\"iniciando sesiom\")\n",
    "\n",
    "\n",
    "ingreso_mensual=1000\n",
    "\n",
    "if condicion;\n",
    "\n",
    "elif condicion;\n",
    "    \n",
    "\n"
   ]
  },
  {
   "cell_type": "code",
   "execution_count": 43,
   "metadata": {},
   "outputs": [
    {
     "name": "stdout",
     "output_type": "stream",
     "text": [
      "['__add__', '__class__', '__contains__', '__delattr__', '__dir__', '__doc__', '__eq__', '__format__', '__ge__', '__getattribute__', '__getitem__', '__getnewargs__', '__getstate__', '__gt__', '__hash__', '__init__', '__init_subclass__', '__iter__', '__le__', '__len__', '__lt__', '__mod__', '__mul__', '__ne__', '__new__', '__reduce__', '__reduce_ex__', '__repr__', '__rmod__', '__rmul__', '__setattr__', '__sizeof__', '__str__', '__subclasshook__', 'capitalize', 'casefold', 'center', 'count', 'encode', 'endswith', 'expandtabs', 'find', 'format', 'format_map', 'index', 'isalnum', 'isalpha', 'isascii', 'isdecimal', 'isdigit', 'isidentifier', 'islower', 'isnumeric', 'isprintable', 'isspace', 'istitle', 'isupper', 'join', 'ljust', 'lower', 'lstrip', 'maketrans', 'partition', 'removeprefix', 'removesuffix', 'replace', 'rfind', 'rindex', 'rjust', 'rpartition', 'rsplit', 'rstrip', 'split', 'splitlines', 'startswith', 'strip', 'swapcase', 'title', 'translate', 'upper', 'zfill']\n",
      "HOLA SOYT DALTO\n",
      "3\n",
      "3\n",
      "True\n",
      "False\n",
      "2\n",
      "15\n",
      "True\n",
      "False\n",
      "hola tio  soyt dalto\n"
     ]
    }
   ],
   "source": [
    "#metodos\n",
    "cadena=\"hola soyt dalto\"\n",
    "cadena2=\"bienvenido \"\n",
    "numeros=\"45163\"\n",
    "print(dir(cadena))\n",
    "\n",
    "resultado=cadena.upper() \n",
    "\n",
    "print(resultado)\n",
    "\n",
    "#buscamos una cadena en otra cadena \n",
    "\n",
    "busqueda_find=cadena.find(\"a\")\n",
    "\n",
    "print(busqueda_find)  # en caso de que no encuentre nada  devuelve menos uno\n",
    "\n",
    "busqueda_index=cadena.index(\"a\")  # en caso de no encontrar coincidencias lansa una esepcion \n",
    "\n",
    "print(busqueda_index)\n",
    "\n",
    "#si es numerico devuelvew truwe\n",
    "\n",
    "es_numerico=numeros.isnumeric()\n",
    "\n",
    "print(es_numerico)\n",
    "\n",
    "#si es alfa numerico  osea solo letras sin espacios \n",
    "\n",
    "es_alfanumerico=numeros.isalpha()\n",
    "print(es_alfanumerico)\n",
    "#contamos las coi9ncidencias de una cadea dentro de otra cadena \n",
    "\n",
    "print(cadena.count(\"a\"))\n",
    "\n",
    "#contar caracteres\n",
    "\n",
    "print(len(cadena))\n",
    "\n",
    "#verificamos si una cadena empieza una cadena con otra vcadena dada\n",
    "\n",
    "print(cadena.startswith(\"ho\"))\n",
    "print(cadena.endswith(\"ho\"))\n",
    "\n",
    "#remplaza un valor de la cadena dada por otra \n",
    "\n",
    "print(cadena.replace(\"hola\",\"hola tio \"))\n",
    "\n"
   ]
  },
  {
   "cell_type": "markdown",
   "metadata": {},
   "source": [
    "DIR - devuelve la lista de atributos válidos del objeto pasado.\n",
    "I\n",
    "1\n",
    "1\n",
    "UPPER - convierte a mayuscula\n",
    "LOWER - convierte a minuscula\n",
    "CAPITALIZE - primera en mayuscula\n",
    "\n",
    "FIND - método encuentra la primera aparición del valor especificado, sino devuelve 1\n",
    "INDEX - método encuentra la primera aparición del valor especificado, sino devuelve una excepción\n",
    "\n",
    "ISNUMERIC - si es nmerico devuelve true\n",
    "ISALPHA - si es alfa numèrico devuelve true\n",
    "\n",
    "COUNT - devuelve el número de ocurrencias de una subcadena en la cadena dada.\n",
    "LEN - cuenta los caracteres de una cadena\n",
    "\n",
    "ENDSWITH - verifica si una cadena comienza con\n",
    "STARTSWITH - verifica si una cadena termina con\n",
    "\n",
    "REPLACE - remplaza un valor por otro\n",
    "SPLIT - separa por el parametro dado_ crea una lista"
   ]
  },
  {
   "cell_type": "code",
   "execution_count": 53,
   "metadata": {},
   "outputs": [
    {
     "name": "stdout",
     "output_type": "stream",
     "text": [
      "3\n",
      "['puñetas', 45, 'jajaja', False, 520]\n"
     ]
    }
   ],
   "source": [
    "#metodos lista\n",
    "\n",
    "lista= list([\"hola\",\"soy israel\",45])\n",
    "\n",
    "print(len(lista))\n",
    "\n",
    "#agrgando elemntos a la lista\n",
    "\n",
    "lista.append(\"jajaja\")\n",
    "\n",
    "lista.insert(2,\"puñetas\")\n",
    "\n",
    "lista.extend([False,520])\n",
    "\n",
    "lista.pop(0) #con menos uno se elimina el ultimo  -1,-2 para el penultimo\n",
    "\n",
    "\n",
    "#remove lo quita por su valor\n",
    "\n",
    "lista.remove(\"soy israel\")\n",
    "\n",
    "\n",
    "print(lista)\n",
    "\n"
   ]
  },
  {
   "cell_type": "markdown",
   "metadata": {},
   "source": [
    "LIST - crea una lista\n",
    "LEN - cuenta la cantidad de elementos de una lista\n",
    "APPEND - agrega un elemento a la lista\n",
    "INSERT - agrega un elemento a la lista en el indice especificado\n",
    "EXTEND - agrega varios elementos a la lista\n",
    "I\n",
    "POP - elimina un elemento de una lista, pide indice y devuelve valor\n",
    "REMOVE - remueve un elemento de una lista, pide valor\n",
    "CLEAR - elimina todos los elementos de una lista\n",
    "SORT - ordena una lista de forma ascendente a descendente y van primero false luego true  (reverse=True) lo ordena en reversa \n",
    "\n",
    "REVERSE - invierte los elementos de una lista"
   ]
  },
  {
   "cell_type": "code",
   "execution_count": 54,
   "metadata": {},
   "outputs": [
    {
     "name": "stdout",
     "output_type": "stream",
     "text": [
      "dict_keys(['nombre', 'apellido', 'subs'])\n",
      "None\n"
     ]
    }
   ],
   "source": [
    "diccionario ={\n",
    "    \"nombre\" : 'lucas',\n",
    "    \"apellido\" : 'resendiz',\n",
    "    \"subs\"   : 10000\n",
    "}\n",
    "\n",
    "keys=diccionario.keys()\n",
    "print(keys)\n",
    "claves=diccionario.get(\"njombre\")\n",
    "\n",
    "print(claves)\n"
   ]
  },
  {
   "cell_type": "markdown",
   "metadata": {},
   "source": [
    "Keys() -> devuelve las claves (tambièn nos sirve para iterar)\n",
    "get() -> devuelve el valor de una clave\n",
    "clear() -> elimina todos los elementos\n",
    "pop() -> elimina un elemento\n",
    "items() -> para iterar el dict"
   ]
  },
  {
   "cell_type": "code",
   "execution_count": 5,
   "metadata": {},
   "outputs": [
    {
     "name": "stdout",
     "output_type": "stream",
     "text": [
      "ga\n"
     ]
    }
   ],
   "source": [
    "#input\n",
    "\n",
    "nombre=input(\" give your name \")\n",
    "numero=input(\"dame un numero \")\n",
    "resultado=int(numero)*2\n",
    "print(nombre)\n",
    "print(resultado)"
   ]
  },
  {
   "cell_type": "code",
   "execution_count": 1,
   "metadata": {},
   "outputs": [
    {
     "name": "stdout",
     "output_type": "stream",
     "text": [
      "dijiste 8, y tardaras 8/2 segundos en decirlo\n"
     ]
    }
   ],
   "source": [
    "#ejecicio\n",
    "frase=input(\"decrime una frase\")\n",
    "\n",
    "palabras=frase.split()\n",
    "\n",
    "cantidad_de_paalabras=len(palabras)\n",
    "print(f'dijiste {cantidad_de_paalabras}, y tardaras {cantidad_de_paalabras /2} segundos en decirlo')\n",
    "\n",
    "if cantidad_de_paalabras>120:\n",
    "    print(\"no te pedi que me contaras tu bibilia\")\n",
    "    "
   ]
  },
  {
   "cell_type": "code",
   "execution_count": null,
   "metadata": {},
   "outputs": [],
   "source": [
    "#desempaquetado\n",
    "\n",
    "datos_en_tupla=(\"lucas\",\"pablo\",100211)\n",
    "datos_en_lista={\"lucas\",\"pablo\",100211}\n",
    "nombre,apellido,suscriptortes=datos_en_lista\n",
    "\n",
    "print(nombre)\n",
    "\n",
    "\n"
   ]
  },
  {
   "cell_type": "code",
   "execution_count": null,
   "metadata": {},
   "outputs": [],
   "source": [
    "#tuplas\n",
    "\n",
    "tupla=tuple([\"dato1\",\"dato2\"])\n",
    "\n",
    "tupla=\"dato1\",\"dato2\"\n",
    "#crereando tupla de un solo dato\n",
    "\n",
    "tupla2=\"dato\","
   ]
  },
  {
   "cell_type": "code",
   "execution_count": 3,
   "metadata": {},
   "outputs": [],
   "source": [
    "#set conjunto\n",
    "\n",
    "conjunto=set([\"dato\",\"dato2\"])\n",
    "\n",
    "#metiendo un cnpjounto dentro de otro conjunto \n",
    "\n",
    "conjunto1=frozenset([\"dato1,dato2\"])\n",
    "\n",
    "conjunto2={conjunto1,\"dato3\"}"
   ]
  },
  {
   "cell_type": "code",
   "execution_count": 7,
   "metadata": {},
   "outputs": [
    {
     "name": "stdout",
     "output_type": "stream",
     "text": [
      "False\n"
     ]
    }
   ],
   "source": [
    "#teroria d econjuntos\n",
    "\n",
    "conjunto1={1,3,5,7}\n",
    "conjunto2={1,7}\n",
    "\n",
    "resultado=conjunto2.issubset(conjunto1)\n",
    "resultado=conjunto2 <= conjunto1\n",
    "\n",
    "resultado=conjunto2.issuperset(conjunto1)\n",
    "resultado=conjunto2 > conjunto1\n",
    "\n",
    "#verifi9car si hay algun numero en comun da false\n",
    "resultado=conjunto2.isdisjoint(conjunto1)\n",
    "print(resultado)"
   ]
  },
  {
   "cell_type": "code",
   "execution_count": 1,
   "metadata": {},
   "outputs": [
    {
     "name": "stdout",
     "output_type": "stream",
     "text": [
      "{'nombre': None, 'apellido': None}\n",
      "{'a': 'apellido', 'b': 'apellido', 'c': 'apellido', 's': 'apellido'}\n"
     ]
    }
   ],
   "source": [
    "# diccionarios\n",
    "diccionario=dict(nombre=\"isra\",apellido=\"resendiz\")\n",
    "\n",
    "diccionario={frozenset([\"dalto\",\"rancio\"]):\"jajaja\"}\n",
    "#datos vacios\n",
    "diccionario1=dict.fromkeys([\"nombre\",\"apellido\"])\n",
    "diccionario2=dict.fromkeys(\"abcs\",\"apellido\")\n",
    "print(diccionario1)\n",
    "print(diccionario2)\n"
   ]
  },
  {
   "cell_type": "code",
   "execution_count": 2,
   "metadata": {},
   "outputs": [
    {
     "name": "stdout",
     "output_type": "stream",
     "text": [
      "gato\n",
      "perro\n",
      "loro\n",
      "1\n",
      "2\n",
      "3\n",
      "el animal1 es un gato\n",
      "el animal2 es un perro\n",
      "el animal3 es un loro\n",
      "0\n",
      "1\n",
      "el indice es0 y el valor es 1\n",
      "el indice es1 y el valor es 2\n",
      "el indice es2 y el valor es 3\n",
      "1\n",
      "2\n",
      "3\n",
      "el bucle termino\n"
     ]
    }
   ],
   "source": [
    "animales=[\"gato\",\"perro\",\"loro\"]\n",
    "numeros=[1,2,3]\n",
    "for animal in animales:\n",
    "    print(animal)   \n",
    "\n",
    "for a in numeros:\n",
    "    print(a)  \n",
    "\n",
    "\n",
    "for n,i in zip(animales,numeros):\n",
    "    print(f\"el animal{i} es un {n}\")\n",
    "\n",
    "for num in range(2):\n",
    "    print(num)\n",
    "\n",
    "for num in enumerate(numeros):\n",
    "    indice=num[0]\n",
    "    valor=num[1]\n",
    "    print(f'el indice es{indice} y el valor es {valor}')\n",
    "\n",
    "for num  in numeros:\n",
    "    print( num)\n",
    "else:\n",
    "    print(\"el bucle termino\")\n",
    "\n",
    "\n"
   ]
  },
  {
   "cell_type": "code",
   "execution_count": 14,
   "metadata": {},
   "outputs": [
    {
     "name": "stdout",
     "output_type": "stream",
     "text": [
      "('subs', 10000)\n",
      "el numero de dato nombre y el valor es :lucas\n",
      "nombre\n",
      "el numero de dato apellido y el valor es :resendiz\n",
      "apellido\n",
      "el numero de dato subs y el valor es :10000\n"
     ]
    }
   ],
   "source": [
    "diccionario ={\n",
    "    \"nombre\" : 'lucas',\n",
    "    \"apellido\" : 'resendiz',\n",
    "    \"subs\"   : 10000\n",
    "}\n",
    "\n",
    "for datos in diccionario.items():\n",
    "    print(key)\n",
    "    key=datos[0]\n",
    "    value=datos[1]\n",
    "    print(f'el numero de dato {key} y el valor es :{ value}')\n"
   ]
  },
  {
   "cell_type": "code",
   "execution_count": null,
   "metadata": {},
   "outputs": [],
   "source": [
    "frutas =[\"banan\",\"granda\",\"limon\",\"pera\"]\n",
    "cadena=\"hola daalto\"\n",
    "numeros=[2,4,7,89,4,8,45,5]\n",
    "for fruta in frutas:\n",
    "    if fruta=='limon':\n",
    "        continue\n",
    "    print(fruta)\n",
    "\n",
    "print(\"-----------\")\n",
    "\n",
    "for fruta in frutas:\n",
    "    if fruta=='banan':\n",
    "        break\n",
    "    print(fruta)\n",
    "\n",
    "#recorrer una cadena \n",
    "\n",
    "for letra in cadena:\n",
    "    print(letra)\n",
    "\n",
    "numeros_duplicvados=[x*2 for x in numeros]\n",
    "print(numeros_duplicvados)"
   ]
  },
  {
   "cell_type": "code",
   "execution_count": null,
   "metadata": {},
   "outputs": [],
   "source": [
    "#buvcle while\n",
    "\n",
    "contador= 0\n",
    "\n",
    "while contador<5:\n",
    "    print(contador)\n",
    "    contador+=1"
   ]
  },
  {
   "cell_type": "code",
   "execution_count": 37,
   "metadata": {},
   "outputs": [
    {
     "name": "stdout",
     "output_type": "stream",
     "text": [
      "47\n",
      "168\n"
     ]
    }
   ],
   "source": [
    "#funciones biuld_in\n",
    "\n",
    "#encpoontrando el numero mayor de una lista\n",
    "\n",
    "numero=[4,46,4,5,45,4,5,47,8]\n",
    "\n",
    "print(max(numero))\n",
    "\n",
    "#rodeando a 6 decimalers\n",
    "\n",
    "numero4=round(12.4566,3)\n",
    "\n",
    "#retorna true si todos lolos valores son verdaderos\n",
    "\n",
    "resultado_all=all([234,\"true\",[45,455]])\n",
    "\n",
    "suma_yotal=sum(numero)\n",
    "print(suma_yotal)\n",
    "\n",
    "\n"
   ]
  },
  {
   "cell_type": "code",
   "execution_count": null,
   "metadata": {},
   "outputs": [],
   "source": [
    "#crerando nuestras propias funciones\n",
    "\n",
    "def saludar():\n",
    "    print(\"hola\")\n",
    "saludar()"
   ]
  },
  {
   "cell_type": "code",
   "execution_count": 3,
   "metadata": {},
   "outputs": [
    {
     "name": "stdout",
     "output_type": "stream",
     "text": [
      "hola como andas mujer camila\n"
     ]
    }
   ],
   "source": [
    "#creare una funcionb con parametros\n",
    "\n",
    "def saludar(nombre,sexo):\n",
    "    sexo=sexo.lower()\n",
    "    if(sexo == \"mujer\"):\n",
    "        print(f'hola como andas mujer {nombre}')\n",
    "    else:\n",
    "        print(f'hola como andas {nombre}')\n",
    "\n",
    "saludar(\"camila\",\"mujer\")\n",
    "\n",
    "#retorno de valores\n",
    "\n",
    "def calculo(num):\n",
    "    listado_de_caracteres=\"adnvksdv\"\n",
    "    num_entero=str(num)\n",
    "    c1=num_entero-2\n",
    "    c2=num_entero\n",
    "    c3=num_entero-5\n",
    "    num=int(num_entero[num_entero])\n"
   ]
  },
  {
   "cell_type": "code",
   "execution_count": 6,
   "metadata": {},
   "outputs": [
    {
     "name": "stdout",
     "output_type": "stream",
     "text": [
      "123\n"
     ]
    }
   ],
   "source": [
    "def suma(a,b):\n",
    "    return a+b\n",
    "\n",
    "resultado=suma(4,5)\n",
    "\n",
    "\n",
    "def suma(*numeros):\n",
    "    return sum(numeros)\n",
    "\n",
    "resultado=suma(4,5,5,5,6,53,45)\n",
    "print(resultado)\n"
   ]
  },
  {
   "cell_type": "code",
   "execution_count": 2,
   "metadata": {},
   "outputs": [
    {
     "name": "stdout",
     "output_type": "stream",
     "text": [
      "holalucas dalto , sos muy capo\n"
     ]
    }
   ],
   "source": [
    "def frase(nombre,apellido,adjetivo):\n",
    "    return f'hola{nombre} {apellido} , sos muy {adjetivo}'\n",
    "\n",
    "frase_resultante=frase(adjetivo=\"capo\",nombre=\"lucas\",apellido=\"dalto\")\n",
    "print(frase_resultante)"
   ]
  },
  {
   "cell_type": "code",
   "execution_count": 3,
   "metadata": {},
   "outputs": [
    {
     "name": "stdout",
     "output_type": "stream",
     "text": [
      "10\n"
     ]
    }
   ],
   "source": [
    "multiplicar=lambda x : x*2\n",
    "\n",
    "print(multiplicar(5))\n"
   ]
  },
  {
   "cell_type": "code",
   "execution_count": 6,
   "metadata": {},
   "outputs": [
    {
     "name": "stdout",
     "output_type": "stream",
     "text": [
      "[2, 4, 6, 8]\n"
     ]
    }
   ],
   "source": [
    "numeros=[1,2,3,4,5,6,7,8,9]\n",
    "\n",
    "def es_par(num):\n",
    "    if(num%2==0):\n",
    "        return True\n",
    "\n",
    "numeros_pares=filter(es_par,numeros)\n",
    "\n",
    "print(list(numeros_pares))"
   ]
  },
  {
   "cell_type": "code",
   "execution_count": 7,
   "metadata": {},
   "outputs": [
    {
     "name": "stdout",
     "output_type": "stream",
     "text": [
      "[2, 4, 6, 8]\n"
     ]
    }
   ],
   "source": [
    "numeros_pares=filter(lambda numero:numero%2==0,numeros)\n",
    "print(list(numeros_pares))"
   ]
  },
  {
   "cell_type": "code",
   "execution_count": 11,
   "metadata": {},
   "outputs": [
    {
     "name": "stdout",
     "output_type": "stream",
     "text": [
      "el alumno sera luis y el profesor sera isra\n"
     ]
    }
   ],
   "source": [
    "def obtener_compañeros(cantidad_de_comapñeros):\n",
    "    compañeros=[]\n",
    "    for i in range(cantidad_de_comapñeros):\n",
    "        nombre=input(f'digite el nombre del alumno: ')\n",
    "        edad=int(input(f'digite su edad'))\n",
    "        compañero=(nombre,edad)\n",
    "        compañeros.append(compañero)\n",
    "    compañeros.sort(key=lambda x:x[1])\n",
    "    asistente=compañeros[0][0]\n",
    "    profesor=compañeros[-1][0]\n",
    "    return asistente,profesor\n",
    "\n",
    "\n",
    "numero_de_alumnos=int(input(f'digite el numero de alumnos'))\n",
    "\n",
    "profesor,alumno=obtener_compañeros(numero_de_alumnos)\n",
    "\n",
    "print(f'el alumno sera {alumno} y el profesor sera {profesor}')"
   ]
  },
  {
   "cell_type": "code",
   "execution_count": 13,
   "metadata": {},
   "outputs": [
    {
     "name": "stdout",
     "output_type": "stream",
     "text": [
      "[3, 5, 7, 11, 13, 17, 19, 23, 29, 31, 37, 41, 43, 47, 53, 59, 61, 67, 71, 73, 79, 83, 89, 97, 101, 103, 107, 109, 113, 127, 131, 137, 139, 149, 151, 157, 163]\n"
     ]
    }
   ],
   "source": [
    "def es_primo(num):\n",
    "    for i in range(2,num-1):\n",
    "        if num%i==0: return False\n",
    "    return True\n",
    "\n",
    "def primos_hasta(num):\n",
    "    primos=[]\n",
    "    for i in range(3,num+1):\n",
    "        resultado=es_primo(i)\n",
    "        if resultado== True: primos.append(i)\n",
    "    return primos\n",
    "\n",
    "resultado=primos_hasta(163)\n",
    "\n",
    "print(resultado)"
   ]
  }
 ],
 "metadata": {
  "kernelspec": {
   "display_name": "Python 3",
   "language": "python",
   "name": "python3"
  },
  "language_info": {
   "codemirror_mode": {
    "name": "ipython",
    "version": 3
   },
   "file_extension": ".py",
   "mimetype": "text/x-python",
   "name": "python",
   "nbconvert_exporter": "python",
   "pygments_lexer": "ipython3",
   "version": "3.11.5"
  }
 },
 "nbformat": 4,
 "nbformat_minor": 4
}
